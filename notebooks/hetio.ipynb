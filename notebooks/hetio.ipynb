{
 "cells": [
  {
   "cell_type": "code",
   "execution_count": 1,
   "metadata": {},
   "outputs": [
    {
     "name": "stdout",
     "output_type": "stream",
     "text": [
      "Torrent name: genemania.pkl, Size: 9.61MB\n"
     ]
    }
   ],
   "source": [
    "from data.gene_graphs import GeneManiaGraph\n",
    "import pandas as pd\n",
    "import networkx as nx\n",
    "import os\n",
    "\n",
    "os.chdir('..') #to avoid FileNotFoundError when trying to read gene_code_map.txt\n",
    "genemania = GeneManiaGraph().nx_graph"
   ]
  },
  {
   "cell_type": "markdown",
   "metadata": {},
   "source": [
    "Download Hetionet graph data"
   ]
  },
  {
   "cell_type": "code",
   "execution_count": 8,
   "metadata": {},
   "outputs": [],
   "source": [
    "DATADIR = './data/hetionet/'\n",
    "if not os.path.exists(DATADIR):\n",
    "    os.makedirs(DATADIR)\n",
    "\n",
    "if not os.path.isfile(DATADIR + 'hetionet-v1.0-edges.sif.gz'):\n",
    "    urls = ['https://media.githubusercontent.com/media/hetio/hetionet/master/hetnet/tsv/hetionet-v1.0-edges.sif.gz',\n",
    "             'https://raw.githubusercontent.com/hetio/hetionet/master/hetnet/tsv/hetionet-v1.0-nodes.tsv']\n",
    "    for link in urls:\n",
    "        os.system('wget {} -P {}'.format(link, DATADIR))"
   ]
  },
  {
   "cell_type": "markdown",
   "metadata": {},
   "source": [
    "Creating an object that maps the Hetio GeneID to the gene name"
   ]
  },
  {
   "cell_type": "code",
   "execution_count": 10,
   "metadata": {},
   "outputs": [],
   "source": [
    "node_ids =  pd.read_csv(DATADIR + 'hetionet-v1.0-nodes.tsv', sep='\\t')\n",
    "node_ids = node_ids.loc[node_ids.name.isin(genemania.nodes)].drop(columns='kind')\n",
    "node_ids = node_ids.set_index('id').squeeze()"
   ]
  },
  {
   "cell_type": "markdown",
   "metadata": {},
   "source": [
    "# Edge list\n",
    "- Only edges of type 'GiG' (Gene interacts with Gene) are retained\n",
    "- Hetio GeneIDs are converted to their respective gene names \n",
    "- Any NA's are removed to prevent adding nan edges to the graph"
   ]
  },
  {
   "cell_type": "code",
   "execution_count": 11,
   "metadata": {},
   "outputs": [],
   "source": [
    "edges = pd.read_csv(DATADIR + 'hetionet-v1.0-edges.sif.gz', sep='\\t', compression='gzip')\n",
    "edges = edges.loc[edges.metaedge == 'GiG'].drop(columns='metaedge')\n",
    "edges = edges.stack().map(node_ids).unstack()\n",
    "edges = edges.dropna()"
   ]
  },
  {
   "cell_type": "markdown",
   "metadata": {},
   "source": [
    "Creating empty copy of genemania to retain node order."
   ]
  },
  {
   "cell_type": "code",
   "execution_count": 12,
   "metadata": {},
   "outputs": [],
   "source": [
    "hetnet = nx.classes.function.create_empty_copy(genemania, with_data=False)\n",
    "hetnet.add_edges_from(edges.values.tolist())\n",
    "nx.write_gpickle(hetnet, DATADIR + 'hetnet.pkl')"
   ]
  },
  {
   "cell_type": "code",
   "execution_count": 13,
   "metadata": {},
   "outputs": [
    {
     "data": {
      "text/plain": [
       "25573"
      ]
     },
     "execution_count": 13,
     "metadata": {},
     "output_type": "execute_result"
    }
   ],
   "source": [
    "len(set(hetnet.edges).difference(genemania.edges))"
   ]
  }
 ],
 "metadata": {
  "kernelspec": {
   "display_name": "Python 3 (Spyder)",
   "language": "python3",
   "name": "python3"
  },
  "language_info": {
   "codemirror_mode": {
    "name": "ipython",
    "version": 3
   },
   "file_extension": ".py",
   "mimetype": "text/x-python",
   "name": "python",
   "nbconvert_exporter": "python",
   "pygments_lexer": "ipython3",
   "version": "3.6.7"
  }
 },
 "nbformat": 4,
 "nbformat_minor": 2
}
