{
 "cells": [
  {
   "cell_type": "code",
   "execution_count": 1,
   "metadata": {},
   "outputs": [],
   "source": [
    "import sys\n",
    "sys.path.append('../')\n",
    "import numpy as np\n",
    "import data.gene_graphs\n",
    "import networkx as nx"
   ]
  },
  {
   "cell_type": "code",
   "execution_count": null,
   "metadata": {},
   "outputs": [],
   "source": []
  },
  {
   "cell_type": "code",
   "execution_count": 2,
   "metadata": {},
   "outputs": [
    {
     "name": "stdout",
     "output_type": "stream",
     "text": [
      " loading from cache file/Users/ieee8023/git/gene-graph-conv/data/graphs/stringdb_graph_all_edges.adjlist\n",
      "Name: \n",
      "Type: Graph\n",
      "Number of nodes: 18851\n",
      "Number of edges: 5703510\n",
      "Average degree: 605.1148\n"
     ]
    }
   ],
   "source": [
    "graph = data.gene_graphs.StringDBGraph()\n",
    "print(nx.info(graph.nx_graph))"
   ]
  },
  {
   "cell_type": "code",
   "execution_count": 3,
   "metadata": {},
   "outputs": [
    {
     "name": "stdout",
     "output_type": "stream",
     "text": [
      " loading from cache file/Users/ieee8023/git/gene-graph-conv/data/graphs/genemania.adjlist.gz\n",
      "Name: \n",
      "Type: Graph\n",
      "Number of nodes: 16300\n",
      "Number of edges: 264657\n",
      "Average degree:  32.4733\n"
     ]
    }
   ],
   "source": [
    "graph = data.gene_graphs.GeneManiaGraph()\n",
    "print(nx.info(graph.nx_graph))"
   ]
  },
  {
   "cell_type": "code",
   "execution_count": 4,
   "metadata": {},
   "outputs": [
    {
     "name": "stdout",
     "output_type": "stream",
     "text": [
      " loading from cache file/Users/ieee8023/git/gene-graph-conv/data/graphs/regnet.adjlist.gz\n",
      "Name: \n",
      "Type: Graph\n",
      "Number of nodes: 7220\n",
      "Number of edges: 247848\n",
      "Average degree:  68.6560\n"
     ]
    }
   ],
   "source": [
    "graph = data.gene_graphs.RegNetGraph()\n",
    "print(nx.info(graph.nx_graph))"
   ]
  },
  {
   "cell_type": "code",
   "execution_count": 5,
   "metadata": {},
   "outputs": [
    {
     "name": "stdout",
     "output_type": "stream",
     "text": [
      " loading from cache file/Users/ieee8023/git/gene-graph-conv/data/graphs/hetio_interaction.adjlist.gz\n",
      "Name: \n",
      "Type: Graph\n",
      "Number of nodes: 7220\n",
      "Number of edges: 247848\n",
      "Average degree:  68.6560\n"
     ]
    }
   ],
   "source": [
    "hetio = data.gene_graphs.HetIOGraph()\n",
    "print(nx.info(graph.nx_graph))"
   ]
  },
  {
   "cell_type": "code",
   "execution_count": 6,
   "metadata": {},
   "outputs": [
    {
     "name": "stdout",
     "output_type": "stream",
     "text": [
      " loading from cache file/Users/ieee8023/git/gene-graph-conv/data/graphs/funcoup.adjlist.gz\n",
      "Name: \n",
      "Type: Graph\n",
      "Number of nodes: 16765\n",
      "Number of edges: 5505787\n",
      "Average degree: 656.8192\n"
     ]
    }
   ],
   "source": [
    "graph = data.gene_graphs.FunCoupGraph()\n",
    "print(nx.info(graph.nx_graph))"
   ]
  },
  {
   "cell_type": "code",
   "execution_count": null,
   "metadata": {},
   "outputs": [],
   "source": []
  }
 ],
 "metadata": {
  "kernelspec": {
   "display_name": "Python 3",
   "language": "python",
   "name": "python3"
  },
  "language_info": {
   "codemirror_mode": {
    "name": "ipython",
    "version": 3
   },
   "file_extension": ".py",
   "mimetype": "text/x-python",
   "name": "python",
   "nbconvert_exporter": "python",
   "pygments_lexer": "ipython3",
   "version": "3.7.3"
  }
 },
 "nbformat": 4,
 "nbformat_minor": 2
}
